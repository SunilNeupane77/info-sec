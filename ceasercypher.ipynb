{
  "nbformat": 4,
  "nbformat_minor": 0,
  "metadata": {
    "colab": {
      "provenance": [],
      "toc_visible": true,
      "authorship_tag": "ABX9TyNq6JZ18Gv0+oJ1H/8Q5x59"
    },
    "kernelspec": {
      "name": "python3",
      "display_name": "Python 3"
    },
    "language_info": {
      "name": "python"
    }
  },
  "cells": [
    {
      "cell_type": "code",
      "execution_count": null,
      "metadata": {
        "colab": {
          "base_uri": "https://localhost:8080/"
        },
        "id": "QwZrSjqPRcvU",
        "outputId": "88b1587b-4937-4e47-f0a8-d138cdc98d29"
      },
      "outputs": [
        {
          "output_type": "stream",
          "name": "stdout",
          "text": [
            "Requirement already satisfied: cryptography in /usr/local/lib/python3.11/dist-packages (43.0.3)\n",
            "Requirement already satisfied: cffi>=1.12 in /usr/local/lib/python3.11/dist-packages (from cryptography) (1.17.1)\n",
            "Requirement already satisfied: pycparser in /usr/local/lib/python3.11/dist-packages (from cffi>=1.12->cryptography) (2.22)\n"
          ]
        }
      ],
      "source": [
        "# prompt: # prompt: install required extension for cryptography\n",
        "\n",
        "!pip install cryptography\n"
      ]
    },
    {
      "cell_type": "code",
      "source": [
        "# Encryption function\n",
        "def encrypt(text, s):\n",
        "    result = \"\"\n",
        "    # Traverse the plain text\n",
        "    for i in range(len(text)):\n",
        "        char = text[i]\n",
        "\n",
        "        # Encrypt uppercase characters in plain text\n",
        "        if char.isupper():\n",
        "            result += chr((ord(char) + s - 65) % 26 + 65)\n",
        "        # Encrypt lowercase characters in plain text\n",
        "        elif char.islower():\n",
        "            result += chr((ord(char) + s - 97) % 26 + 97)\n",
        "        else:\n",
        "            result += char\n",
        "    return result\n",
        "\n",
        "# Decryption function\n",
        "def decrypt(cipher_text, s):\n",
        "    result = \"\"\n",
        "    # Traverse the cipher text\n",
        "    for i in range(len(cipher_text)):\n",
        "        char = cipher_text[i]\n",
        "        # Decrypt uppercase characters in cipher text\n",
        "        if char.isupper():\n",
        "            result += chr((ord(char) - s - 65) % 26 + 65)\n",
        "        # Decrypt lowercase characters in cipher text\n",
        "        elif char.islower():\n",
        "            result += chr((ord(char) - s - 97) % 26 + 97)\n",
        "        else:\n",
        "            result += char\n",
        "    return result\n",
        "\n",
        "# Check the functions\n",
        "text = \"sunil neupane\"\n",
        "s = 4\n",
        "\n",
        "# Encrypt the text\n",
        "cipher_text = encrypt(text, s)\n",
        "print(\"Plain text:\", text)\n",
        "print(\"Shift pattern:\", str(s))\n",
        "print(\"Cipher text:\", cipher_text)\n",
        "\n",
        "# Decrypt the text\n",
        "plain_text = decrypt(cipher_text, s)\n",
        "print(\"Cipher text:\", cipher_text)\n",
        "print(\"Shift pattern:\", str(s))\n",
        "print(\"Plain text:\", plain_text)"
      ],
      "metadata": {
        "colab": {
          "base_uri": "https://localhost:8080/"
        },
        "id": "i885oyLGTJS9",
        "outputId": "7afbdddc-960c-437c-c1ac-3797b34bd481"
      },
      "execution_count": null,
      "outputs": [
        {
          "output_type": "stream",
          "name": "stdout",
          "text": [
            "Plain text: sunil neupane\n",
            "Shift pattern: 4\n",
            "Cipher text: wyrmp riyteri\n",
            "Cipher text: wyrmp riyteri\n",
            "Shift pattern: 4\n",
            "Plain text: sunil neupane\n"
          ]
        }
      ]
    },
    {
      "cell_type": "code",
      "source": [],
      "metadata": {
        "id": "3UFNWTtRWobb"
      },
      "execution_count": null,
      "outputs": []
    }
  ]
}
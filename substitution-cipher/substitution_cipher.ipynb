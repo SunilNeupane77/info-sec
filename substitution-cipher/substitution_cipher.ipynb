{
  "cells": [
    {
      "cell_type": "markdown",
      "metadata": {},
      "source": [
        "## Substitution Cipher encryption and Decryption"
      ]
    },
    {
      "cell_type": "code",
      "execution_count": 3,
      "metadata": {
        "colab": {
          "base_uri": "https://localhost:8080/"
        },
        "id": "l2LFO20PfJ-x",
        "outputId": "cc47faba-304e-4377-83d4-124bdd9f1145"
      },
      "outputs": [
        {
          "name": "stdout",
          "output_type": "stream",
          "text": [
            "Cipher Text is:  Lipps, LsA evi Csy?\n",
            "Recovered plain text : Hello, How are you?\n"
          ]
        }
      ],
      "source": [
        "\"\"\"\n",
        "   SUBSTITUTION CIPHER\n",
        "\"\"\"\n",
        "\n",
        "import string\n",
        "\n",
        "# A list containing all characters\n",
        "all_letters= string.ascii_letters\n",
        "\n",
        "\n",
        "dict1 = {}\n",
        "key = 4\n",
        "\n",
        "for i in range(len(all_letters)):\n",
        "    dict1[all_letters[i]] = all_letters[(i+key)%len(all_letters)]\n",
        "\n",
        "\n",
        "plain_txt= \"Hello, How are you?\"\n",
        "cipher_txt=[]\n",
        "\n",
        "# loop to generate ciphertext\n",
        "\n",
        "for char in plain_txt:\n",
        "    if char in all_letters:\n",
        "        temp = dict1[char]\n",
        "        cipher_txt.append(temp)\n",
        "    else:\n",
        "        temp =char\n",
        "        cipher_txt.append(temp)\n",
        "\n",
        "cipher_txt= \"\".join(cipher_txt)\n",
        "print(\"Cipher Text is: \",cipher_txt)\n",
        "\n",
        "\n",
        "\"\"\"\n",
        "create a dictionary to store the substitution\n",
        "for the given alphabet in the cipher\n",
        "text based on the key\n",
        "\"\"\"\n",
        "\n",
        "\n",
        "dict2 = {}\n",
        "for i in range(len(all_letters)):\n",
        "    dict2[all_letters[i]] = all_letters[(i-key)%(len(all_letters))]\n",
        "\n",
        "# loop to recover plain text\n",
        "decrypt_txt = []\n",
        "\n",
        "for char in cipher_txt:\n",
        "    if char in all_letters:\n",
        "        temp = dict2[char]\n",
        "        decrypt_txt.append(temp)\n",
        "    else:\n",
        "        temp = char\n",
        "        decrypt_txt.append(temp)\n",
        "\n",
        "decrypt_txt = \"\".join(decrypt_txt)\n",
        "print(\"Recovered plain text :\", decrypt_txt)"
      ]
    },
    {
      "cell_type": "code",
      "execution_count": null,
      "metadata": {
        "id": "aaI79VmmgaKB"
      },
      "outputs": [],
      "source": []
    }
  ],
  "metadata": {
    "colab": {
      "provenance": []
    },
    "kernelspec": {
      "display_name": "Python 3",
      "name": "python3"
    },
    "language_info": {
      "name": "python"
    }
  },
  "nbformat": 4,
  "nbformat_minor": 0
}
